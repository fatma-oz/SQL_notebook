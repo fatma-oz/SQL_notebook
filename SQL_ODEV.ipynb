{
 "cells": [
  {
   "cell_type": "markdown",
   "metadata": {},
   "source": [
    "# SQL ALIŞTIRMALARI 1"
   ]
  },
  {
   "cell_type": "code",
   "execution_count": 1,
   "metadata": {},
   "outputs": [],
   "source": [
    "%load_ext sql"
   ]
  },
  {
   "cell_type": "code",
   "execution_count": 2,
   "metadata": {},
   "outputs": [
    {
     "data": {
      "text/plain": [
       "'Connected: @vbo.db'"
      ]
     },
     "execution_count": 2,
     "metadata": {},
     "output_type": "execute_result"
    }
   ],
   "source": [
    "%sql sqlite:///vbo.db"
   ]
  },
  {
   "cell_type": "code",
   "execution_count": 3,
   "metadata": {},
   "outputs": [
    {
     "name": "stdout",
     "output_type": "stream",
     "text": [
      " * sqlite:///vbo.db\n",
      "Done.\n"
     ]
    },
    {
     "data": {
      "text/html": [
       "<table>\n",
       "    <tr>\n",
       "        <th>CustomerID</th>\n",
       "        <th>CustomerName</th>\n",
       "        <th>ContactName</th>\n",
       "        <th>Address</th>\n",
       "        <th>City</th>\n",
       "        <th>PostalCode</th>\n",
       "        <th>Country</th>\n",
       "    </tr>\n",
       "    <tr>\n",
       "        <td>1</td>\n",
       "        <td>Alfreds Futterkiste</td>\n",
       "        <td>Maria Anders</td>\n",
       "        <td>Obere Str. 57</td>\n",
       "        <td>Berlin</td>\n",
       "        <td>12209</td>\n",
       "        <td>Germany</td>\n",
       "    </tr>\n",
       "    <tr>\n",
       "        <td>2</td>\n",
       "        <td>Ana Trujillo Emparedados y helados</td>\n",
       "        <td>Ana Trujillo</td>\n",
       "        <td>Avda. de la Constitución 2222</td>\n",
       "        <td>México D.F.</td>\n",
       "        <td>5021</td>\n",
       "        <td>Mexico</td>\n",
       "    </tr>\n",
       "    <tr>\n",
       "        <td>3</td>\n",
       "        <td>Antonio Moreno Taquería</td>\n",
       "        <td>Antonio Moreno</td>\n",
       "        <td>Mataderos 2312</td>\n",
       "        <td>México D.F.</td>\n",
       "        <td>5023</td>\n",
       "        <td>Mexico</td>\n",
       "    </tr>\n",
       "</table>"
      ],
      "text/plain": [
       "[(1, 'Alfreds Futterkiste', 'Maria Anders', 'Obere Str. 57', 'Berlin', '12209', 'Germany'),\n",
       " (2, 'Ana Trujillo Emparedados y helados', 'Ana Trujillo', 'Avda. de la Constitución 2222', 'México D.F.', '5021', 'Mexico'),\n",
       " (3, 'Antonio Moreno Taquería', 'Antonio Moreno', 'Mataderos 2312', 'México D.F.', '5023', 'Mexico')]"
      ]
     },
     "execution_count": 3,
     "metadata": {},
     "output_type": "execute_result"
    }
   ],
   "source": [
    "%%sql\n",
    "SELECT * FROM Customers LIMIT 3;"
   ]
  },
  {
   "cell_type": "markdown",
   "metadata": {},
   "source": [
    "# 1. Orders tablosunda kaç müşteri oldugunu bulunuz."
   ]
  },
  {
   "cell_type": "code",
   "execution_count": 4,
   "metadata": {},
   "outputs": [
    {
     "name": "stdout",
     "output_type": "stream",
     "text": [
      " * sqlite:///vbo.db\n",
      "Done.\n"
     ]
    },
    {
     "data": {
      "text/html": [
       "<table>\n",
       "    <tr>\n",
       "        <th>OrderID</th>\n",
       "        <th>CustomerID</th>\n",
       "        <th>EmployeeID</th>\n",
       "        <th>OrderDate</th>\n",
       "        <th>ShipperID</th>\n",
       "    </tr>\n",
       "    <tr>\n",
       "        <td>10248</td>\n",
       "        <td>90</td>\n",
       "        <td>5</td>\n",
       "        <td>4.07.1996</td>\n",
       "        <td>3</td>\n",
       "    </tr>\n",
       "    <tr>\n",
       "        <td>10249</td>\n",
       "        <td>81</td>\n",
       "        <td>6</td>\n",
       "        <td>5.07.1996</td>\n",
       "        <td>1</td>\n",
       "    </tr>\n",
       "    <tr>\n",
       "        <td>10250</td>\n",
       "        <td>34</td>\n",
       "        <td>4</td>\n",
       "        <td>8.07.1996</td>\n",
       "        <td>2</td>\n",
       "    </tr>\n",
       "    <tr>\n",
       "        <td>10251</td>\n",
       "        <td>84</td>\n",
       "        <td>3</td>\n",
       "        <td>8.07.1996</td>\n",
       "        <td>1</td>\n",
       "    </tr>\n",
       "    <tr>\n",
       "        <td>10252</td>\n",
       "        <td>76</td>\n",
       "        <td>4</td>\n",
       "        <td>9.07.1996</td>\n",
       "        <td>2</td>\n",
       "    </tr>\n",
       "    <tr>\n",
       "        <td>10253</td>\n",
       "        <td>34</td>\n",
       "        <td>3</td>\n",
       "        <td>10.07.1996</td>\n",
       "        <td>2</td>\n",
       "    </tr>\n",
       "    <tr>\n",
       "        <td>10254</td>\n",
       "        <td>14</td>\n",
       "        <td>5</td>\n",
       "        <td>11.07.1996</td>\n",
       "        <td>2</td>\n",
       "    </tr>\n",
       "    <tr>\n",
       "        <td>10255</td>\n",
       "        <td>68</td>\n",
       "        <td>9</td>\n",
       "        <td>12.07.1996</td>\n",
       "        <td>3</td>\n",
       "    </tr>\n",
       "    <tr>\n",
       "        <td>10256</td>\n",
       "        <td>88</td>\n",
       "        <td>3</td>\n",
       "        <td>15.07.1996</td>\n",
       "        <td>2</td>\n",
       "    </tr>\n",
       "    <tr>\n",
       "        <td>10257</td>\n",
       "        <td>35</td>\n",
       "        <td>4</td>\n",
       "        <td>16.07.1996</td>\n",
       "        <td>3</td>\n",
       "    </tr>\n",
       "</table>"
      ],
      "text/plain": [
       "[(10248, 90, 5, '4.07.1996', 3),\n",
       " (10249, 81, 6, '5.07.1996', 1),\n",
       " (10250, 34, 4, '8.07.1996', 2),\n",
       " (10251, 84, 3, '8.07.1996', 1),\n",
       " (10252, 76, 4, '9.07.1996', 2),\n",
       " (10253, 34, 3, '10.07.1996', 2),\n",
       " (10254, 14, 5, '11.07.1996', 2),\n",
       " (10255, 68, 9, '12.07.1996', 3),\n",
       " (10256, 88, 3, '15.07.1996', 2),\n",
       " (10257, 35, 4, '16.07.1996', 3)]"
      ]
     },
     "execution_count": 4,
     "metadata": {},
     "output_type": "execute_result"
    }
   ],
   "source": [
    "%%sql\n",
    "SELECT * FROM Orders LIMIT 10;"
   ]
  },
  {
   "cell_type": "code",
   "execution_count": 5,
   "metadata": {},
   "outputs": [
    {
     "name": "stdout",
     "output_type": "stream",
     "text": [
      " * sqlite:///vbo.db\n",
      "Done.\n"
     ]
    },
    {
     "data": {
      "text/html": [
       "<table>\n",
       "    <tr>\n",
       "        <th>COUNT(CustomerID)</th>\n",
       "    </tr>\n",
       "    <tr>\n",
       "        <td>196</td>\n",
       "    </tr>\n",
       "</table>"
      ],
      "text/plain": [
       "[(196,)]"
      ]
     },
     "execution_count": 5,
     "metadata": {},
     "output_type": "execute_result"
    }
   ],
   "source": [
    "%%sql\n",
    "SELECT COUNT(CustomerID) FROM Orders;"
   ]
  },
  {
   "cell_type": "markdown",
   "metadata": {},
   "source": [
    "## 2. Orders tablosunda kaç tane eşsiz müşteri olduğunu bulunuz."
   ]
  },
  {
   "cell_type": "code",
   "execution_count": 6,
   "metadata": {},
   "outputs": [
    {
     "name": "stdout",
     "output_type": "stream",
     "text": [
      " * sqlite:///vbo.db\n",
      "Done.\n"
     ]
    },
    {
     "data": {
      "text/html": [
       "<table>\n",
       "    <tr>\n",
       "        <th>COUNT(DISTINCT CustomerID)</th>\n",
       "    </tr>\n",
       "    <tr>\n",
       "        <td>74</td>\n",
       "    </tr>\n",
       "</table>"
      ],
      "text/plain": [
       "[(74,)]"
      ]
     },
     "execution_count": 6,
     "metadata": {},
     "output_type": "execute_result"
    }
   ],
   "source": [
    "%%sql\n",
    "SELECT COUNT(DISTINCT CustomerID) FROM Orders;"
   ]
  },
  {
   "cell_type": "markdown",
   "metadata": {},
   "source": [
    "## 3. Customers tablosunda hangi ülkeden kaçar tane müşteri olduğunu bulunuz.\n"
   ]
  },
  {
   "cell_type": "code",
   "execution_count": null,
   "metadata": {},
   "outputs": [],
   "source": [
    "%%sql\n",
    "SELECT COUNT(CustomerID), Country FROM Customers GROUP BY Country;"
   ]
  },
  {
   "cell_type": "markdown",
   "metadata": {},
   "source": [
    "## 4. Müşterilerin ülkesi Brazil ya da USA olanlarını bulunuz."
   ]
  },
  {
   "cell_type": "code",
   "execution_count": null,
   "metadata": {},
   "outputs": [],
   "source": [
    "%%sql\n",
    "SELECT * FROM Customers WHERE Country in ('Brazil', 'USA');"
   ]
  },
  {
   "cell_type": "markdown",
   "metadata": {},
   "source": [
    "## 5. Önce ülkeye sonra şehre göre group by işlemi yapıp bu kırılımda müşteri sayısını bulunuz."
   ]
  },
  {
   "cell_type": "code",
   "execution_count": null,
   "metadata": {},
   "outputs": [],
   "source": [
    "%%sql\n",
    "SELECT COUNT(CustomerID), Country, City FROM Customers GROUP BY Country, City;"
   ]
  },
  {
   "cell_type": "code",
   "execution_count": null,
   "metadata": {},
   "outputs": [],
   "source": []
  },
  {
   "cell_type": "markdown",
   "metadata": {},
   "source": [
    "# SQL ALIŞTIRMALARI II"
   ]
  },
  {
   "cell_type": "markdown",
   "metadata": {},
   "source": [
    "## 6. Müşterileri adreslerinin herhangi bir yerinde \"da\" ifadesi geçen tüm adresleri bulunuz."
   ]
  },
  {
   "cell_type": "code",
   "execution_count": null,
   "metadata": {},
   "outputs": [],
   "source": [
    "%%sql\n",
    "SELECT * FROM Customers WHERE Address LIKE '%da%' ;"
   ]
  },
  {
   "cell_type": "markdown",
   "metadata": {},
   "source": [
    "## 7. Germany-Berlin'de yaşayan müşteri/müşterilerin isimleri nelerdir?"
   ]
  },
  {
   "cell_type": "code",
   "execution_count": null,
   "metadata": {},
   "outputs": [],
   "source": [
    "%%sql\n",
    "SELECT CustomerName FROM Customers WHERE Country = 'Germany' and City = 'Berlin';"
   ]
  },
  {
   "cell_type": "markdown",
   "metadata": {},
   "source": [
    "## 8. Canada'da yaşayıp isimlerinde \"in\" ifadesi geçen müşteri/müşterileri bulunuz."
   ]
  },
  {
   "cell_type": "code",
   "execution_count": null,
   "metadata": {},
   "outputs": [],
   "source": [
    "%%sql\n",
    "SELECT CustomerName FROM Customers WHERE CustomerName LIKE '%in%' AND Country = 'Canada';"
   ]
  },
  {
   "cell_type": "markdown",
   "metadata": {},
   "source": [
    "## 9. Fiyatı 40 TL ile 90 TL arasında olan ürünlerin isimleri ve fiyatları nelerdir?"
   ]
  },
  {
   "cell_type": "code",
   "execution_count": null,
   "metadata": {},
   "outputs": [],
   "source": [
    "%%sql\n",
    "SELECT ProductName, Price FROM Products WHERE Price <= 90 and Price >=40;"
   ]
  },
  {
   "cell_type": "markdown",
   "metadata": {},
   "source": [
    "## 10. Fiyatı 30 TL'den büyük olan ürünlerin isimlerini, fiyatlarini ve fiyatlarinin karesini bulunuz ve tüm değişkenlerin isimlendirmelerini aşağıdaki şekilde yapınız:\n",
    "\n",
    "urun ismi, urun_fiyati, ürün_fiyatinin_karesi"
   ]
  },
  {
   "cell_type": "code",
   "execution_count": 6,
   "metadata": {
    "collapsed": true,
    "jupyter": {
     "outputs_hidden": true
    }
   },
   "outputs": [
    {
     "name": "stdout",
     "output_type": "stream",
     "text": [
      " * sqlite:///vbo.db\n",
      "Done.\n"
     ]
    },
    {
     "data": {
      "text/html": [
       "<table>\n",
       "    <tr>\n",
       "        <th>urun_ismi</th>\n",
       "        <th>urun_fiyati</th>\n",
       "        <th>urun_fiyatinin_karesi</th>\n",
       "    </tr>\n",
       "    <tr>\n",
       "        <td>Uncle Bob&#x27;s Organic Dried Pears</td>\n",
       "        <td>30</td>\n",
       "        <td>900</td>\n",
       "    </tr>\n",
       "    <tr>\n",
       "        <td>Northwoods Cranberry Sauce</td>\n",
       "        <td>40</td>\n",
       "        <td>1600</td>\n",
       "    </tr>\n",
       "    <tr>\n",
       "        <td>Mishi Kobe Niku</td>\n",
       "        <td>97</td>\n",
       "        <td>9409</td>\n",
       "    </tr>\n",
       "    <tr>\n",
       "        <td>Ikura</td>\n",
       "        <td>31</td>\n",
       "        <td>961</td>\n",
       "    </tr>\n",
       "    <tr>\n",
       "        <td>Queso Manchego La Pastora</td>\n",
       "        <td>38</td>\n",
       "        <td>1444</td>\n",
       "    </tr>\n",
       "    <tr>\n",
       "        <td>Genen Shouyu</td>\n",
       "        <td>43</td>\n",
       "        <td>1849</td>\n",
       "    </tr>\n",
       "    <tr>\n",
       "        <td>Alice Mutton</td>\n",
       "        <td>39</td>\n",
       "        <td>1521</td>\n",
       "    </tr>\n",
       "    <tr>\n",
       "        <td>Carnarvon Tigers</td>\n",
       "        <td>62</td>\n",
       "        <td>3844</td>\n",
       "    </tr>\n",
       "    <tr>\n",
       "        <td>Teatime Chocolate Biscuits</td>\n",
       "        <td>43</td>\n",
       "        <td>1849</td>\n",
       "    </tr>\n",
       "    <tr>\n",
       "        <td>Sir Rodney&#x27;s Marmalade</td>\n",
       "        <td>81</td>\n",
       "        <td>6561</td>\n",
       "    </tr>\n",
       "    <tr>\n",
       "        <td>Guaraná Fantástica</td>\n",
       "        <td>43</td>\n",
       "        <td>1849</td>\n",
       "    </tr>\n",
       "    <tr>\n",
       "        <td>Gumbär Gummibärchen</td>\n",
       "        <td>31</td>\n",
       "        <td>961</td>\n",
       "    </tr>\n",
       "    <tr>\n",
       "        <td>Schoggi Schokolade</td>\n",
       "        <td>43</td>\n",
       "        <td>1849</td>\n",
       "    </tr>\n",
       "    <tr>\n",
       "        <td>Rössle Sauerkraut</td>\n",
       "        <td>45</td>\n",
       "        <td>2025</td>\n",
       "    </tr>\n",
       "    <tr>\n",
       "        <td>Thüringer Rostbratwurst</td>\n",
       "        <td>123</td>\n",
       "        <td>15129</td>\n",
       "    </tr>\n",
       "    <tr>\n",
       "        <td>Gorgonzola Telino</td>\n",
       "        <td>435</td>\n",
       "        <td>189225</td>\n",
       "    </tr>\n",
       "    <tr>\n",
       "        <td>Mascarpone Fabioli</td>\n",
       "        <td>32</td>\n",
       "        <td>1024</td>\n",
       "    </tr>\n",
       "    <tr>\n",
       "        <td>Geitost</td>\n",
       "        <td>43</td>\n",
       "        <td>1849</td>\n",
       "    </tr>\n",
       "    <tr>\n",
       "        <td>Côte de Blaye</td>\n",
       "        <td>263</td>\n",
       "        <td>69169</td>\n",
       "    </tr>\n",
       "    <tr>\n",
       "        <td>Boston Crab Meat</td>\n",
       "        <td>43</td>\n",
       "        <td>1849</td>\n",
       "    </tr>\n",
       "    <tr>\n",
       "        <td>Ipoh Coffee</td>\n",
       "        <td>46</td>\n",
       "        <td>2116</td>\n",
       "    </tr>\n",
       "    <tr>\n",
       "        <td>Røgede sild</td>\n",
       "        <td>43</td>\n",
       "        <td>1849</td>\n",
       "    </tr>\n",
       "    <tr>\n",
       "        <td>Zaanse koeken</td>\n",
       "        <td>43</td>\n",
       "        <td>1849</td>\n",
       "    </tr>\n",
       "    <tr>\n",
       "        <td>Manjimup Dried Apples</td>\n",
       "        <td>53</td>\n",
       "        <td>2809</td>\n",
       "    </tr>\n",
       "    <tr>\n",
       "        <td>Perth Pasties</td>\n",
       "        <td>32</td>\n",
       "        <td>1024</td>\n",
       "    </tr>\n",
       "    <tr>\n",
       "        <td>Gnocchi di nonna Alice</td>\n",
       "        <td>38</td>\n",
       "        <td>1444</td>\n",
       "    </tr>\n",
       "    <tr>\n",
       "        <td>Ravioli Angelo</td>\n",
       "        <td>43</td>\n",
       "        <td>1849</td>\n",
       "    </tr>\n",
       "    <tr>\n",
       "        <td>Raclette Courdavault</td>\n",
       "        <td>55</td>\n",
       "        <td>3025</td>\n",
       "    </tr>\n",
       "    <tr>\n",
       "        <td>Camembert Pierrot</td>\n",
       "        <td>34</td>\n",
       "        <td>1156</td>\n",
       "    </tr>\n",
       "    <tr>\n",
       "        <td>Sirop d&#x27;érable</td>\n",
       "        <td>43</td>\n",
       "        <td>1849</td>\n",
       "    </tr>\n",
       "    <tr>\n",
       "        <td>Tarte au sucre</td>\n",
       "        <td>49</td>\n",
       "        <td>2401</td>\n",
       "    </tr>\n",
       "    <tr>\n",
       "        <td>Vegie-spread</td>\n",
       "        <td>43</td>\n",
       "        <td>1849</td>\n",
       "    </tr>\n",
       "    <tr>\n",
       "        <td>Wimmers gute Semmelknödel</td>\n",
       "        <td>33</td>\n",
       "        <td>1089</td>\n",
       "    </tr>\n",
       "    <tr>\n",
       "        <td>Louisiana Fiery Hot Pepper Sauce</td>\n",
       "        <td>43</td>\n",
       "        <td>1849</td>\n",
       "    </tr>\n",
       "    <tr>\n",
       "        <td>Scottish Longbreads</td>\n",
       "        <td>45</td>\n",
       "        <td>2025</td>\n",
       "    </tr>\n",
       "    <tr>\n",
       "        <td>Gudbrandsdalsost</td>\n",
       "        <td>36</td>\n",
       "        <td>1296</td>\n",
       "    </tr>\n",
       "    <tr>\n",
       "        <td>Mozzarella di Giovanni</td>\n",
       "        <td>34</td>\n",
       "        <td>1156</td>\n",
       "    </tr>\n",
       "</table>"
      ],
      "text/plain": [
       "[(\"Uncle Bob's Organic Dried Pears\", 30, 900),\n",
       " ('Northwoods Cranberry Sauce', 40, 1600),\n",
       " ('Mishi Kobe Niku', 97, 9409),\n",
       " ('Ikura', 31, 961),\n",
       " ('Queso Manchego La Pastora', 38, 1444),\n",
       " ('Genen Shouyu', 43, 1849),\n",
       " ('Alice Mutton', 39, 1521),\n",
       " ('Carnarvon Tigers', 62, 3844),\n",
       " ('Teatime Chocolate Biscuits', 43, 1849),\n",
       " (\"Sir Rodney's Marmalade\", 81, 6561),\n",
       " ('Guaraná Fantástica', 43, 1849),\n",
       " ('Gumbär Gummibärchen', 31, 961),\n",
       " ('Schoggi Schokolade', 43, 1849),\n",
       " ('Rössle Sauerkraut', 45, 2025),\n",
       " ('Thüringer Rostbratwurst', 123, 15129),\n",
       " ('Gorgonzola Telino', 435, 189225),\n",
       " ('Mascarpone Fabioli', 32, 1024),\n",
       " ('Geitost', 43, 1849),\n",
       " ('Côte de Blaye', 263, 69169),\n",
       " ('Boston Crab Meat', 43, 1849),\n",
       " ('Ipoh Coffee', 46, 2116),\n",
       " ('Røgede sild', 43, 1849),\n",
       " ('Zaanse koeken', 43, 1849),\n",
       " ('Manjimup Dried Apples', 53, 2809),\n",
       " ('Perth Pasties', 32, 1024),\n",
       " ('Gnocchi di nonna Alice', 38, 1444),\n",
       " ('Ravioli Angelo', 43, 1849),\n",
       " ('Raclette Courdavault', 55, 3025),\n",
       " ('Camembert Pierrot', 34, 1156),\n",
       " (\"Sirop d'érable\", 43, 1849),\n",
       " ('Tarte au sucre', 49, 2401),\n",
       " ('Vegie-spread', 43, 1849),\n",
       " ('Wimmers gute Semmelknödel', 33, 1089),\n",
       " ('Louisiana Fiery Hot Pepper Sauce', 43, 1849),\n",
       " ('Scottish Longbreads', 45, 2025),\n",
       " ('Gudbrandsdalsost', 36, 1296),\n",
       " ('Mozzarella di Giovanni', 34, 1156)]"
      ]
     },
     "execution_count": 6,
     "metadata": {},
     "output_type": "execute_result"
    }
   ],
   "source": [
    "%%sql\n",
    "SELECT ProductName as urun_ismi, Price as urun_fiyati, Price*Price as urun_fiyatinin_karesi \n",
    "FROM Products WHERE Price >= 30;"
   ]
  },
  {
   "cell_type": "code",
   "execution_count": null,
   "metadata": {},
   "outputs": [],
   "source": []
  },
  {
   "cell_type": "markdown",
   "metadata": {},
   "source": [
    "# SQL ALIŞTIRMALARI III"
   ]
  },
  {
   "cell_type": "markdown",
   "metadata": {},
   "source": [
    "## 11. Products tablosundaki CategoryID’lerin yani kategorilerin isimleri nelerdir? "
   ]
  },
  {
   "cell_type": "code",
   "execution_count": null,
   "metadata": {},
   "outputs": [],
   "source": [
    "%%sql\n",
    "SELECT * \n",
    "FROM Products \n",
    "LEFT JOIN Categories on Products.CategoryID = Categories.CategoryID;"
   ]
  },
  {
   "cell_type": "markdown",
   "metadata": {},
   "source": [
    "## 12. beverages ürün kategorisindeki ürünlerin fiyat ortalaması nedir?"
   ]
  },
  {
   "cell_type": "code",
   "execution_count": null,
   "metadata": {},
   "outputs": [],
   "source": [
    "%%sql\n",
    "SELECT AVG(Price) \n",
    "FROM Products \n",
    "LEFT JOIN Categories on Products.CategoryID = categories.CategoryID \n",
    "WHERE CategoryName = 'Beverages';\n"
   ]
  },
  {
   "cell_type": "markdown",
   "metadata": {},
   "source": [
    "## 13. USA'de yaşayan müşterilerin kazandırdığı toplam kazancı bulunuz."
   ]
  },
  {
   "cell_type": "code",
   "execution_count": null,
   "metadata": {},
   "outputs": [],
   "source": [
    "%%sql \n",
    "SELECT SUM(p.Price) \n",
    "FROM Orders o \n",
    "LEFT JOIN OrderDetails od on o.OrderID = od.OrderID \n",
    "LEFT JOIN Products p on od.ProductID = p.ProductID \n",
    "LEFT JOIN Customers cu on o.CustomerID = cu.CustomerID where cu.Country = 'USA';\n"
   ]
  },
  {
   "cell_type": "markdown",
   "metadata": {},
   "source": [
    "## 14. Products tablosundaki CategoryID'lerin isimlerini bulunuz ve sonrasında kategori başına ortalama ürün fiyatını gösteriniz."
   ]
  },
  {
   "cell_type": "code",
   "execution_count": null,
   "metadata": {},
   "outputs": [],
   "source": [
    "%%sql\n",
    "SELECT AVG(Price), CategoryName \n",
    "FROM Products \n",
    "LEFT JOIN Categories on Products.CategoryID = Categories.CategoryID \n",
    "GROUP BY CategoryName;"
   ]
  },
  {
   "cell_type": "markdown",
   "metadata": {},
   "source": [
    "## 15. Çalışanları (EmployeeID) isimleri ile birlikte yaptıkları toplam satışlara göre sıralayınız."
   ]
  },
  {
   "cell_type": "code",
   "execution_count": null,
   "metadata": {},
   "outputs": [],
   "source": [
    "%%sql\n",
    "SELECT em.FirstName, SUM(p.Price) toplam_satis \n",
    "FROM Orders o \n",
    "LEFT JOIN OrderDetails od on o.OrderID = od.OrderID \n",
    "LEFT JOIN Products p on od.ProductID = p.ProductID \n",
    "LEFT JOIN Employees em on o.EmployeeID = em.EmployeeID \n",
    "GROUP BY o.EmployeeID \n",
    "ORDER BY toplam_satis DESC;"
   ]
  },
  {
   "cell_type": "code",
   "execution_count": null,
   "metadata": {},
   "outputs": [],
   "source": []
  },
  {
   "cell_type": "code",
   "execution_count": null,
   "metadata": {},
   "outputs": [],
   "source": []
  },
  {
   "cell_type": "code",
   "execution_count": null,
   "metadata": {},
   "outputs": [],
   "source": []
  },
  {
   "cell_type": "code",
   "execution_count": null,
   "metadata": {},
   "outputs": [],
   "source": []
  },
  {
   "cell_type": "code",
   "execution_count": null,
   "metadata": {},
   "outputs": [],
   "source": []
  },
  {
   "cell_type": "code",
   "execution_count": null,
   "metadata": {},
   "outputs": [],
   "source": []
  },
  {
   "cell_type": "code",
   "execution_count": null,
   "metadata": {},
   "outputs": [],
   "source": []
  },
  {
   "cell_type": "code",
   "execution_count": null,
   "metadata": {},
   "outputs": [],
   "source": []
  },
  {
   "cell_type": "markdown",
   "metadata": {},
   "source": [
    "# SQL ALIŞTIRMALARI IV"
   ]
  },
  {
   "cell_type": "markdown",
   "metadata": {},
   "source": [
    "## 16. Germany'dan verilen siparişlerin kategorilerine göre ortalama fiyatları nelerdir?"
   ]
  },
  {
   "cell_type": "code",
   "execution_count": null,
   "metadata": {},
   "outputs": [],
   "source": [
    "%%sql\n",
    "SELECT ca.CategoryName, AVG(p.Price) \n",
    "FROM Orders o \n",
    "LEFT JOIN OrderDetails od on o.OrderID = od.OrderID \n",
    "LEFT JOIN Products p on od.ProductID = p.ProductID \n",
    "LEFT JOIN Categories ca on p.CategoryID = ca.CategoryID \n",
    "LEFT JOIN Customers cu on o.CustomerID = cu.CustomerID \n",
    "WHERE cu.Country = 'Germany' GROUP BY CategoryName;"
   ]
  },
  {
   "cell_type": "markdown",
   "metadata": {},
   "source": [
    "## 17. Almanya ya da USA'den verilen siparişlerin kategorilerine göre ortalama fiyatları nelerdir?"
   ]
  },
  {
   "cell_type": "code",
   "execution_count": null,
   "metadata": {},
   "outputs": [],
   "source": [
    "%%sql\n",
    "SELECT ca.CategoryName, AVG(p.Price) \n",
    "FROM Orders o \n",
    "LEFT JOIN OrderDetails od on o.OrderID = od.OrderID \n",
    "LEFT JOIN Products p on od.ProductID = p.ProductID \n",
    "LEFT JOIN Categories ca on p.CategoryID = ca.CategoryID \n",
    "LEFT JOIN Customers cu on o.CustomerID = cu.CustomerID \n",
    "WHERE cu.Country = 'Germany' OR cu.Country = 'USA' GROUP BY CategoryName;"
   ]
  },
  {
   "cell_type": "markdown",
   "metadata": {},
   "source": [
    "## 18. Haziran Temmuz Ağustos aylarında verilen siparişlerin ortalama fiyatı nedir?"
   ]
  },
  {
   "cell_type": "code",
   "execution_count": null,
   "metadata": {},
   "outputs": [],
   "source": [
    "%%sql\n",
    "SELECT AVG(Products.Price) \n",
    "FROM Products \n",
    "LEFT JOIN OrderDetails on OrderDetails.ProductID = products.ProductID \n",
    "LEFT JOIN Orders on OrderDetails.OrderID = Orders.OrderID \n",
    "WHERE OrderDate like '%07%' or OrderDate like '%08%' or OrderDate like '%09%';"
   ]
  },
  {
   "cell_type": "markdown",
   "metadata": {},
   "source": [
    "## 19. Müşterilerin 1997 yılına ait siparişlerinin maksimum miktarlarını bulup müşterilerin isimleri ile birlikte büyükten küçüğe sıralayınız."
   ]
  },
  {
   "cell_type": "code",
   "execution_count": null,
   "metadata": {},
   "outputs": [],
   "source": [
    "%%sql\n",
    "SELECT CustomerName, MAX(Price) maks \n",
    "FROM Products \n",
    "LEFT JOIN OrderDetails on Products.ProductID = OrderDetails.ProductID \n",
    "LEFT JOIN Orders on OrderDetails.OrderID = Orders.OrderID \n",
    "LEFT JOIN Customers on Customers.CustomerID = Orders.CustomerID \n",
    "WHERE OrderDate like '%1997%' \n",
    "GROUP BY CustomerName ORDER BY maks DESC;"
   ]
  },
  {
   "cell_type": "markdown",
   "metadata": {},
   "source": [
    "## 20. Sipariş yılı 1997 olan siparişleri alan çalışanları sipariş alma sayılarına göre sıralayınız."
   ]
  },
  {
   "cell_type": "code",
   "execution_count": null,
   "metadata": {},
   "outputs": [],
   "source": [
    "%%sql\n",
    "SELECT COUNT(*) n, em.FirstName \n",
    "FROM Orders \n",
    "LEFT JOIN Employees em on Orders.EmployeeID = em.EmployeeID \n",
    "WHERE OrderDate like '%1997%' \n",
    "GROUP BY em.FirstName \n",
    "ORDER by n DESC;\n"
   ]
  }
 ],
 "metadata": {
  "kernelspec": {
   "display_name": "Python 3",
   "language": "python",
   "name": "python3"
  },
  "language_info": {
   "codemirror_mode": {
    "name": "ipython",
    "version": 3
   },
   "file_extension": ".py",
   "mimetype": "text/x-python",
   "name": "python",
   "nbconvert_exporter": "python",
   "pygments_lexer": "ipython3",
   "version": "3.7.6"
  }
 },
 "nbformat": 4,
 "nbformat_minor": 4
}
